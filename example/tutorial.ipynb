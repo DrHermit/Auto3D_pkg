{
 "cells": [
  {
   "cell_type": "code",
   "execution_count": 1,
   "metadata": {},
   "outputs": [],
   "source": [
    "import Auto3D\n",
    "from Auto3D.auto3D import options, main"
   ]
  },
  {
   "cell_type": "code",
   "execution_count": 2,
   "metadata": {},
   "outputs": [
    {
     "name": "stdout",
     "output_type": "stream",
     "text": [
      "0.1.2\n"
     ]
    }
   ],
   "source": [
    "#Always ensure that you have the latest version\n",
    "print(Auto3D.__version__)"
   ]
  },
  {
   "cell_type": "markdown",
   "metadata": {},
   "source": [
    "# Generate low-energy conformers with Auto3D"
   ]
  },
  {
   "cell_type": "code",
   "execution_count": 3,
   "metadata": {},
   "outputs": [
    {
     "name": "stdout",
     "output_type": "stream",
     "text": [
      "Checking input file...\n",
      "\tThere are 4 SMILES in the input file /Users/liu5/Documents/Auto3D_pkg/example/files/smiles.smi. \n",
      "\tAll SMILES and IDs are valid.\n",
      "Suggestions for choosing isomer_engine and optimizing_engine: \n",
      "\tIsomer engine options: RDKit and Omega.\n",
      "\tOptimizing engine options: ANI2x, ANI_2xt and AIMNET.\n",
      "There are 4 SMILES, available memory is 16.0 GB.\n",
      "The task will be divided into 1 jobs.\n",
      "Job1, number of inputs: 4\n",
      "\n",
      "\n",
      "Isomer generation for job1\n",
      "Enumerating cis/tran isomers for unspecified double bonds...\n",
      "Enumerating R/S isomers for unspecified atomic centers...\n",
      "Removing enantiomers...\n",
      "Enumerating conformers/rotamers, removing duplicates...\n",
      "\n",
      "\n",
      "Optimizing on job1\n",
      "Preparing for parallel optimizing... (Max optimization steps: 10000)\n",
      "Total 3D conformers: 54\n"
     ]
    },
    {
     "name": "stderr",
     "output_type": "stream",
     "text": [
      " 10%|█         | 1000/10000 [03:44<15:29,  9.68it/s]"
     ]
    },
    {
     "name": "stdout",
     "output_type": "stream",
     "text": [
      "Total 3D structures: 54  Converged: 38   Active: 16\n"
     ]
    },
    {
     "name": "stderr",
     "output_type": "stream",
     "text": [
      " 20%|██        | 2002/10000 [04:24<02:06, 63.06it/s]"
     ]
    },
    {
     "name": "stdout",
     "output_type": "stream",
     "text": [
      "Total 3D structures: 54  Converged: 53   Active: 1\n"
     ]
    },
    {
     "name": "stderr",
     "output_type": "stream",
     "text": [
      " 30%|██▉       | 2998/10000 [04:40<01:53, 61.80it/s]"
     ]
    },
    {
     "name": "stdout",
     "output_type": "stream",
     "text": [
      "Total 3D structures: 54  Converged: 53   Active: 1\n"
     ]
    },
    {
     "name": "stderr",
     "output_type": "stream",
     "text": [
      " 37%|███▋      | 3680/10000 [04:50<08:19, 12.66it/s]\n"
     ]
    },
    {
     "name": "stdout",
     "output_type": "stream",
     "text": [
      "All structures converged at step 3681:   Total 3D structures: 54  Converged: 54   Active: 0\n",
      "Beggin to slelect structures that satisfy the requirements...\n",
      "Energy unit: Hartree if implicit.\n",
      "Program running time: 297.10353779792786 seconds\n",
      "/Users/liu5/Documents/Auto3D_pkg/example/files/20220502-113701_smiles/smiles_out.sdf\n"
     ]
    }
   ],
   "source": [
    "if __name__ == \"__main__\":\n",
    "    path = \"/Users/liu5/Documents/Auto3D_pkg/example/files/smiles.smi\"\n",
    "    args = options(path, k=1, use_gpu=False)   #args specify the parameters for Auto3D \n",
    "    out = main(args)            #main acceps the parameters and run Auto3D\n",
    "    print(out)"
   ]
  },
  {
   "cell_type": "code",
   "execution_count": 4,
   "metadata": {},
   "outputs": [
    {
     "name": "stdout",
     "output_type": "stream",
     "text": [
      "Help on function options in module Auto3D.auto3D:\n",
      "\n",
      "options(path, k=False, window=False, verbose=False, job_name='', enumerate_tautomer=False, tauto_engine='rdkit', isomer_engine='rdkit', cis_trans=True, mode_oe='classic', mpi_np=4, max_confs=1000, use_gpu=True, gpu_idx=0, capacity=42, optimizing_engine='AIMNET', opt_steps=10000, convergence_threshold=0.003, threshold=0.3)\n",
      "    Arguments for Auto3D main program\n",
      "    path: A input.smi containing SMILES and IDs. Examples are listed in the example/files folder\n",
      "    k: Outputs the top-k structures for each SMILES.\n",
      "    window: Outputs the structures whose energies are within x (kcal/mol) from the lowest energy conformer\n",
      "    verbose: When True, save all meta data while running.\n",
      "    job_name: A folder name to save all meta data.\n",
      "    \n",
      "    enumerate_tautomer: When True, enumerate tautomers for the input\n",
      "    taut_engine: Programs to enumerate tautomers, either 'rdkit' or 'oechem'\n",
      "    isomer_engine: The program for generating 3D isomers for each SMILES. This parameter is either rdkit or omega.\n",
      "    cis_trans: When True, cis/trans and r/s isomers are enumerated.\n",
      "    mode_oe: The mode that omega program will take. It can be either 'classic' or 'macrocycle'. By default, the 'classic' mode is used. For detailed information about each mode, see https://docs.eyesopen.com/applications/omega/omega/omega_overview.html\n",
      "    mpi_np: Number of CPU cores for the isomer generation engine.\n",
      "    max_confs: Maximum number of isomers for each SMILES.\n",
      "    use_gpu: If True, the program will use GPU when available\n",
      "    gpu_idx: GPU index. It only works when --use_gpu=True\n",
      "    capacity: Number of SMILES that the model will handle for 1 G memory\n",
      "    optimizing_engine: Choose either 'ANI2x', 'ANI2xt', or 'AIMNET' for energy calculation and geometry optimization.\n",
      "    opt_steps: Maximum optimization steps for each structure.\n",
      "    convergence_threshold: Optimization is considered as converged if maximum force is below this threshold.\n",
      "    threshold: If the RMSD between two conformers are within threhold, they are considered as duplicates. One of them will be removed.\n",
      "\n"
     ]
    }
   ],
   "source": [
    "help(options)"
   ]
  },
  {
   "cell_type": "code",
   "execution_count": 5,
   "metadata": {},
   "outputs": [
    {
     "name": "stdout",
     "output_type": "stream",
     "text": [
      "Help on function main in module Auto3D.auto3D:\n",
      "\n",
      "main(args: dict)\n",
      "    Take the arguments from options and run Auto3D\n",
      "\n"
     ]
    }
   ],
   "source": [
    "help(main)"
   ]
  },
  {
   "cell_type": "markdown",
   "metadata": {},
   "source": [
    "# Calculate thermodynamic properties with the 3D structures"
   ]
  },
  {
   "cell_type": "code",
   "execution_count": 8,
   "metadata": {},
   "outputs": [],
   "source": [
    "from Auto3D.ASE.thermo import calc_thermo"
   ]
  },
  {
   "cell_type": "code",
   "execution_count": 10,
   "metadata": {},
   "outputs": [
    {
     "name": "stdout",
     "output_type": "stream",
     "text": [
      "      Step     Time          Energy         fmax\n",
      "BFGS:    0 11:48:22   -13060.592595        0.0041\n",
      "Enthalpy components at T = 298.00 K:\n",
      "===============================\n",
      "E_pot             -13060.593 eV\n",
      "E_ZPE                  5.084 eV\n",
      "Cv_trans (0->T)        0.039 eV\n",
      "Cv_rot (0->T)          0.039 eV\n",
      "Cv_vib (0->T)          0.195 eV\n",
      "(C_v -> C_p)           0.026 eV\n",
      "-------------------------------\n",
      "H                 -13055.211 eV\n",
      "===============================\n",
      "Entropy components at T = 298.00 K and P = 101325.0 Pa:\n",
      "=================================================\n",
      "                           S               T*S\n",
      "S_trans (1 bar)    0.0017751 eV/K        0.529 eV\n",
      "S_rot              0.0013111 eV/K        0.391 eV\n",
      "S_elec             0.0000000 eV/K        0.000 eV\n",
      "S_vib              0.0012050 eV/K        0.359 eV\n",
      "S (1 bar -> P)    -0.0000011 eV/K       -0.000 eV\n",
      "-------------------------------------------------\n",
      "S                  0.0042900 eV/K        1.278 eV\n",
      "=================================================\n",
      "Enthalpy components at T = 298.00 K:\n",
      "===============================\n",
      "E_pot             -13060.593 eV\n",
      "E_ZPE                  5.084 eV\n",
      "Cv_trans (0->T)        0.039 eV\n",
      "Cv_rot (0->T)          0.039 eV\n",
      "Cv_vib (0->T)          0.195 eV\n",
      "(C_v -> C_p)           0.026 eV\n",
      "-------------------------------\n",
      "H                 -13055.211 eV\n",
      "===============================\n",
      "\n",
      "Entropy components at T = 298.00 K and P = 101325.0 Pa:\n",
      "=================================================\n",
      "                           S               T*S\n",
      "S_trans (1 bar)    0.0017751 eV/K        0.529 eV\n",
      "S_rot              0.0013111 eV/K        0.391 eV\n",
      "S_elec             0.0000000 eV/K        0.000 eV\n",
      "S_vib              0.0012050 eV/K        0.359 eV\n",
      "S (1 bar -> P)    -0.0000011 eV/K       -0.000 eV\n",
      "-------------------------------------------------\n",
      "S                  0.0042900 eV/K        1.278 eV\n",
      "=================================================\n",
      "\n",
      "Free energy components at T = 298.00 K and P = 101325.0 Pa:\n",
      "=======================\n",
      "    H     -13055.211 eV\n",
      " -T*S         -1.278 eV\n",
      "-----------------------\n",
      "    G     -13056.489 eV\n",
      "=======================\n",
      "-479.8171515118781\n",
      "      Step     Time          Energy         fmax\n",
      "BFGS:    0 11:48:27    -6331.248203        0.0046\n",
      "Enthalpy components at T = 298.00 K:\n",
      "===============================\n",
      "E_pot              -6331.248 eV\n",
      "E_ZPE                  3.080 eV\n",
      "Cv_trans (0->T)        0.039 eV\n",
      "Cv_rot (0->T)          0.039 eV\n",
      "Cv_vib (0->T)          0.097 eV\n",
      "(C_v -> C_p)           0.026 eV\n",
      "-------------------------------\n",
      "H                  -6327.968 eV\n",
      "===============================\n",
      "Entropy components at T = 298.00 K and P = 101325.0 Pa:\n",
      "=================================================\n",
      "                           S               T*S\n",
      "S_trans (1 bar)    0.0016811 eV/K        0.501 eV\n",
      "S_rot              0.0011102 eV/K        0.331 eV\n",
      "S_elec             0.0000000 eV/K        0.000 eV\n",
      "S_vib              0.0006040 eV/K        0.180 eV\n",
      "S (1 bar -> P)    -0.0000011 eV/K       -0.000 eV\n",
      "-------------------------------------------------\n",
      "S                  0.0033942 eV/K        1.011 eV\n",
      "=================================================\n",
      "Enthalpy components at T = 298.00 K:\n",
      "===============================\n",
      "E_pot              -6331.248 eV\n",
      "E_ZPE                  3.080 eV\n",
      "Cv_trans (0->T)        0.039 eV\n",
      "Cv_rot (0->T)          0.039 eV\n",
      "Cv_vib (0->T)          0.097 eV\n",
      "(C_v -> C_p)           0.026 eV\n",
      "-------------------------------\n",
      "H                  -6327.968 eV\n",
      "===============================\n",
      "\n",
      "Entropy components at T = 298.00 K and P = 101325.0 Pa:\n",
      "=================================================\n",
      "                           S               T*S\n",
      "S_trans (1 bar)    0.0016811 eV/K        0.501 eV\n",
      "S_rot              0.0011102 eV/K        0.331 eV\n",
      "S_elec             0.0000000 eV/K        0.000 eV\n",
      "S_vib              0.0006040 eV/K        0.180 eV\n",
      "S (1 bar -> P)    -0.0000011 eV/K       -0.000 eV\n",
      "-------------------------------------------------\n",
      "S                  0.0033942 eV/K        1.011 eV\n",
      "=================================================\n",
      "\n",
      "Free energy components at T = 298.00 K and P = 101325.0 Pa:\n",
      "=======================\n",
      "    H      -6327.968 eV\n",
      " -T*S         -1.011 eV\n",
      "-----------------------\n",
      "    G      -6328.980 eV\n",
      "=======================\n",
      "-232.58572005429463\n",
      "      Step     Time          Energy         fmax\n",
      "BFGS:    0 11:48:30    -9417.118438        0.0046\n",
      "Enthalpy components at T = 298.00 K:\n",
      "===============================\n",
      "E_pot              -9417.118 eV\n",
      "E_ZPE                  3.405 eV\n",
      "Cv_trans (0->T)        0.039 eV\n",
      "Cv_rot (0->T)          0.039 eV\n",
      "Cv_vib (0->T)          0.141 eV\n",
      "(C_v -> C_p)           0.026 eV\n",
      "-------------------------------\n",
      "H                  -9413.471 eV\n",
      "===============================\n",
      "Entropy components at T = 298.00 K and P = 101325.0 Pa:\n",
      "=================================================\n",
      "                           S               T*S\n",
      "S_trans (1 bar)    0.0017235 eV/K        0.514 eV\n",
      "S_rot              0.0011967 eV/K        0.357 eV\n",
      "S_elec             0.0000000 eV/K        0.000 eV\n",
      "S_vib              0.0008478 eV/K        0.253 eV\n",
      "S (1 bar -> P)    -0.0000011 eV/K       -0.000 eV\n",
      "-------------------------------------------------\n",
      "S                  0.0037668 eV/K        1.123 eV\n",
      "=================================================\n",
      "Enthalpy components at T = 298.00 K:\n",
      "===============================\n",
      "E_pot              -9417.118 eV\n",
      "E_ZPE                  3.405 eV\n",
      "Cv_trans (0->T)        0.039 eV\n",
      "Cv_rot (0->T)          0.039 eV\n",
      "Cv_vib (0->T)          0.141 eV\n",
      "(C_v -> C_p)           0.026 eV\n",
      "-------------------------------\n",
      "H                  -9413.471 eV\n",
      "===============================\n",
      "\n",
      "Entropy components at T = 298.00 K and P = 101325.0 Pa:\n",
      "=================================================\n",
      "                           S               T*S\n",
      "S_trans (1 bar)    0.0017235 eV/K        0.514 eV\n",
      "S_rot              0.0011967 eV/K        0.357 eV\n",
      "S_elec             0.0000000 eV/K        0.000 eV\n",
      "S_vib              0.0008478 eV/K        0.253 eV\n",
      "S (1 bar -> P)    -0.0000011 eV/K       -0.000 eV\n",
      "-------------------------------------------------\n",
      "S                  0.0037668 eV/K        1.123 eV\n",
      "=================================================\n",
      "\n",
      "Free energy components at T = 298.00 K and P = 101325.0 Pa:\n",
      "=======================\n",
      "    H      -9413.471 eV\n",
      " -T*S         -1.123 eV\n",
      "-----------------------\n",
      "    G      -9414.593 eV\n",
      "=======================\n",
      "-345.9799284684319\n",
      "      Step     Time          Energy         fmax\n",
      "BFGS:    0 11:48:33    -9510.197046        0.0049\n",
      "Enthalpy components at T = 298.00 K:\n",
      "===============================\n",
      "E_pot              -9510.197 eV\n",
      "E_ZPE                  4.812 eV\n",
      "Cv_trans (0->T)        0.039 eV\n",
      "Cv_rot (0->T)          0.039 eV\n",
      "Cv_vib (0->T)          0.183 eV\n",
      "(C_v -> C_p)           0.026 eV\n",
      "-------------------------------\n",
      "H                  -9505.100 eV\n",
      "===============================\n",
      "Entropy components at T = 298.00 K and P = 101325.0 Pa:\n",
      "=================================================\n",
      "                           S               T*S\n",
      "S_trans (1 bar)    0.0017382 eV/K        0.518 eV\n",
      "S_rot              0.0012593 eV/K        0.375 eV\n",
      "S_elec             0.0000000 eV/K        0.000 eV\n",
      "S_vib              0.0011261 eV/K        0.336 eV\n",
      "S (1 bar -> P)    -0.0000011 eV/K       -0.000 eV\n",
      "-------------------------------------------------\n",
      "S                  0.0041224 eV/K        1.228 eV\n",
      "=================================================\n",
      "Enthalpy components at T = 298.00 K:\n",
      "===============================\n",
      "E_pot              -9510.197 eV\n",
      "E_ZPE                  4.812 eV\n",
      "Cv_trans (0->T)        0.039 eV\n",
      "Cv_rot (0->T)          0.039 eV\n",
      "Cv_vib (0->T)          0.183 eV\n",
      "(C_v -> C_p)           0.026 eV\n",
      "-------------------------------\n",
      "H                  -9505.100 eV\n",
      "===============================\n",
      "\n",
      "Entropy components at T = 298.00 K and P = 101325.0 Pa:\n",
      "=================================================\n",
      "                           S               T*S\n",
      "S_trans (1 bar)    0.0017382 eV/K        0.518 eV\n",
      "S_rot              0.0012593 eV/K        0.375 eV\n",
      "S_elec             0.0000000 eV/K        0.000 eV\n",
      "S_vib              0.0011261 eV/K        0.336 eV\n",
      "S (1 bar -> P)    -0.0000011 eV/K       -0.000 eV\n",
      "-------------------------------------------------\n",
      "S                  0.0041224 eV/K        1.228 eV\n",
      "=================================================\n",
      "\n",
      "Free energy components at T = 298.00 K and P = 101325.0 Pa:\n",
      "=======================\n",
      "    H      -9505.100 eV\n",
      " -T*S         -1.228 eV\n",
      "-----------------------\n",
      "    G      -9506.328 eV\n",
      "=======================\n",
      "-349.3511279488314\n",
      "0\n",
      "4\n",
      "/Users/liu5/Documents/Auto3D_pkg/example/files/20220502-113701_smiles/smiles_out_AIMNET_G.sdf\n"
     ]
    }
   ],
   "source": [
    "#need to define a function that gets the unique ID and temperature for molecules in the input path.\n",
    "#The mol object is pybel Molecule object\n",
    "def get_mol_idx_t(mol):\n",
    "    id = mol.data[\"ID\"]\n",
    "    t = 298\n",
    "    return (id, t)\n",
    "\n",
    "\n",
    "out_thermo = calc_thermo(out, \"AIMNET\", get_mol_idx_t)\n",
    "print(out_thermo)"
   ]
  },
  {
   "cell_type": "code",
   "execution_count": 9,
   "metadata": {},
   "outputs": [
    {
     "name": "stdout",
     "output_type": "stream",
     "text": [
      "Help on function calc_thermo in module Auto3D.ASE.thermo:\n",
      "\n",
      "calc_thermo(path: str, model_name: str, get_mol_idx_t: <built-in function callable>, gpu_idx=0, opt_tol=0.005, opt_steps=10000)\n",
      "    ASE interface for calculation thermo properties using ANI2xt and AIMNET\n",
      "    path: Input sdf file\n",
      "    model_name: ANI2x, ANI2xt or AIMNET\n",
      "    get_mol_idx_t: a functioin that returns (idx, T) from a pybel mol object\n",
      "    gpu_idx: GPU cuda index\n",
      "    opt_tol: Convergence_threshold for geometry optimization\n",
      "    opt_steps: Maximum geometry optimizaiton steps\n",
      "\n"
     ]
    }
   ],
   "source": [
    "help(calc_thermo)"
   ]
  },
  {
   "cell_type": "code",
   "execution_count": null,
   "metadata": {},
   "outputs": [],
   "source": []
  }
 ],
 "metadata": {
  "interpreter": {
   "hash": "31f2aee4e71d21fbe5cf8b01ff0e069b9275f58929596ceb00d14d90e3e16cd6"
  },
  "kernelspec": {
   "display_name": "Python 3 (ipykernel)",
   "language": "python",
   "name": "python3"
  },
  "language_info": {
   "codemirror_mode": {
    "name": "ipython",
    "version": 3
   },
   "file_extension": ".py",
   "mimetype": "text/x-python",
   "name": "python",
   "nbconvert_exporter": "python",
   "pygments_lexer": "ipython3",
   "version": "3.9.7"
  }
 },
 "nbformat": 4,
 "nbformat_minor": 2
}
