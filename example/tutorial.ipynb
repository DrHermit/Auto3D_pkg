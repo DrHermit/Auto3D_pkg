{
 "cells": [
  {
   "cell_type": "code",
   "execution_count": 1,
   "metadata": {},
   "outputs": [
    {
     "name": "stderr",
     "output_type": "stream",
     "text": [
      "/opt/anaconda3/envs/auto3D/lib/python3.10/site-packages/tqdm/auto.py:22: TqdmWarning: IProgress not found. Please update jupyter and ipywidgets. See https://ipywidgets.readthedocs.io/en/stable/user_install.html\n",
      "  from .autonotebook import tqdm as notebook_tqdm\n",
      "/opt/anaconda3/envs/auto3D/lib/python3.10/site-packages/Auto3D/isomer_engine.py:22: UserWarning: Openeye software is not available.\n",
      "  warnings.warn(\"Openeye software is not available.\")\n",
      "/opt/anaconda3/envs/auto3D/lib/python3.10/site-packages/Auto3D/batch_opt/batchopt.py:9: UserWarning: TorchANI is not installed\n",
      "  warnings.warn(\"TorchANI is not installed\")\n",
      "/opt/anaconda3/envs/auto3D/lib/python3.10/site-packages/Auto3D/batch_opt/batchopt.py:15: UserWarning: ANI2xt model is not available\n",
      "  warnings.warn(\"ANI2xt model is not available\")\n"
     ]
    }
   ],
   "source": [
    "from Auto3D.auto3D import options, main"
   ]
  },
  {
   "cell_type": "code",
   "execution_count": 6,
   "metadata": {},
   "outputs": [
    {
     "name": "stdout",
     "output_type": "stream",
     "text": [
      "Checking input file...\n",
      "\tThere are 4 SMILES in the input file /Users/liu5/Documents/Auto3D_pkg/example/files/smiles.smi. \n",
      "\tAll SMILES and IDs are valid.\n",
      "Suggestions for choosing isomer_engine and optimizing_engine: \n",
      "\tIsomer engine options: RDKit and Omega.\n",
      "\tOptimizing engine options: ANI2x, ANI_2xt and AIMNET.\n",
      "There are 4 SMILES, available memory is 16.0 GB.\n",
      "The task will be divided into 1 jobs.\n",
      "Job1, number of inputs: 4\n"
     ]
    },
    {
     "name": "stderr",
     "output_type": "stream",
     "text": [
      "/opt/anaconda3/envs/auto3D/lib/python3.10/site-packages/Auto3D/isomer_engine.py:22: UserWarning: Openeye software is not available.\n",
      "  warnings.warn(\"Openeye software is not available.\")\n",
      "/opt/anaconda3/envs/auto3D/lib/python3.10/site-packages/Auto3D/isomer_engine.py:22: UserWarning: Openeye software is not available.\n",
      "  warnings.warn(\"Openeye software is not available.\")\n",
      "/opt/anaconda3/envs/auto3D/lib/python3.10/site-packages/Auto3D/batch_opt/batchopt.py:9: UserWarning: TorchANI is not installed\n",
      "  warnings.warn(\"TorchANI is not installed\")\n",
      "/opt/anaconda3/envs/auto3D/lib/python3.10/site-packages/Auto3D/batch_opt/batchopt.py:9: UserWarning: TorchANI is not installed\n",
      "  warnings.warn(\"TorchANI is not installed\")\n",
      "/opt/anaconda3/envs/auto3D/lib/python3.10/site-packages/Auto3D/batch_opt/batchopt.py:15: UserWarning: ANI2xt model is not available\n",
      "  warnings.warn(\"ANI2xt model is not available\")\n",
      "/opt/anaconda3/envs/auto3D/lib/python3.10/site-packages/Auto3D/batch_opt/batchopt.py:15: UserWarning: ANI2xt model is not available\n",
      "  warnings.warn(\"ANI2xt model is not available\")\n"
     ]
    },
    {
     "name": "stdout",
     "output_type": "stream",
     "text": [
      "\n",
      "\n",
      "Isomer generation for job1\n",
      "Enumerating cis/tran isomers for unspecified double bonds...\n",
      "Enumerating R/S isomers for unspecified atomic centers...\n",
      "Removing enantiomers...\n",
      "Enumerating conformers/rotamers, removing duplicates...\n",
      "\n",
      "\n",
      "Optimizing on job1\n",
      "Preparing for parallel optimizing... (Max optimization steps: 10000)\n",
      "Total 3D conformers: 54\n"
     ]
    },
    {
     "name": "stderr",
     "output_type": "stream",
     "text": [
      " 37%|███▋      | 3682/10000 [02:16<03:53, 27.05it/s] \n"
     ]
    },
    {
     "name": "stdout",
     "output_type": "stream",
     "text": [
      "Total 3D structures: 54  Converged: 38   Active: 16\n",
      "Total 3D structures: 54  Converged: 53   Active: 1\n",
      "Total 3D structures: 54  Converged: 53   Active: 1\n",
      "All structures converged at step 3683:   Total 3D structures: 54  Converged: 54   Active: 0\n",
      "Beggin to slelect structures that satisfy the requirements...\n",
      "Energy unit: Hartree if implicit.\n",
      "Program running time: 140.73682284355164 seconds\n",
      "/Users/liu5/Documents/Auto3D_pkg/example/files/20220428-173956_smiles/smiles_out.sdf\n"
     ]
    }
   ],
   "source": [
    "if __name__ == \"__main__\":\n",
    "    path = \"/Users/liu5/Documents/Auto3D_pkg/example/files/smiles.smi\"\n",
    "    args = options(path, k=1, use_gpu=False)   #args specify the parameters for Auto3D \n",
    "    out = main(args)            #main acceps the parameters and run Auto3D\n",
    "    print(out)"
   ]
  },
  {
   "cell_type": "code",
   "execution_count": null,
   "metadata": {},
   "outputs": [],
   "source": []
  },
  {
   "cell_type": "code",
   "execution_count": 2,
   "metadata": {},
   "outputs": [
    {
     "name": "stdout",
     "output_type": "stream",
     "text": [
      "Help on function options in module Auto3D.auto3D:\n",
      "\n",
      "options(path, k=False, window=False, verbose=False, job_name='', enumerate_tautomer=False, tauto_engine='rdkit', isomer_engine='rdkit', cis_trans=True, mode_oe='classic', mpi_np=4, max_confs=1000, use_gpu=True, gpu_idx=0, capacity=42, optimizing_engine='AIMNET', opt_steps=10000, convergence_threshold=0.003, threshold=0.3)\n",
      "    Arguments for Auto3D main program\n",
      "    path: A input.smi containing SMILES and IDs. Examples are listed in the input folder\n",
      "    k: Outputs the top-k structures for each SMILES.\n",
      "    window: Outputs the structures whose energies are within window (kcal/mol) from the lowest energy\n",
      "    verbose: When True, save all meta data while running.\n",
      "    job_name: A folder name to save all meta data.\n",
      "    \n",
      "    enumerate_tautomer: When True, enumerate tautomers for the input\n",
      "    taut_engine: Programs to enumerate tautomers, either 'rdkit' or 'oechem\n",
      "    isomer_engine: The program for generating 3D isomers for each SMILES. This parameter is either rdkit or omega.\n",
      "    cis_trans: When True, cis/trans and r/s isomers are enumerated.\n",
      "    mode_oe: \"The mode that omega program will take. \"It can be either 'classic', 'macrocycle' \"\"'rocs', 'pose' or 'dense'. \"\n",
      "                            \"By default, the 'classic' mode is used. \"\n",
      "                            \"For detailed information about each mode, see \"\n",
      "                            \"https://docs.eyesopen.com/applications/omega/omega/omega_overview.html\"\n",
      "    mpi_np: Number of CPU cores for the isomer generation step.\n",
      "    max_confs: Maximum number of isomers for each SMILES\n",
      "\n"
     ]
    }
   ],
   "source": [
    "help(options)"
   ]
  },
  {
   "cell_type": "code",
   "execution_count": 3,
   "metadata": {},
   "outputs": [
    {
     "name": "stdout",
     "output_type": "stream",
     "text": [
      "Help on function main in module Auto3D.auto3D:\n",
      "\n",
      "main(args: dict)\n",
      "    Take the arguments from options and run Auto3D\n",
      "\n"
     ]
    }
   ],
   "source": [
    "help(main)"
   ]
  },
  {
   "cell_type": "code",
   "execution_count": null,
   "metadata": {},
   "outputs": [],
   "source": []
  }
 ],
 "metadata": {
  "interpreter": {
   "hash": "31f2aee4e71d21fbe5cf8b01ff0e069b9275f58929596ceb00d14d90e3e16cd6"
  },
  "kernelspec": {
   "display_name": "Python 3 (ipykernel)",
   "language": "python",
   "name": "python3"
  },
  "language_info": {
   "codemirror_mode": {
    "name": "ipython",
    "version": 3
   },
   "file_extension": ".py",
   "mimetype": "text/x-python",
   "name": "python",
   "nbconvert_exporter": "python",
   "pygments_lexer": "ipython3",
   "version": "3.10.4"
  }
 },
 "nbformat": 4,
 "nbformat_minor": 2
}
