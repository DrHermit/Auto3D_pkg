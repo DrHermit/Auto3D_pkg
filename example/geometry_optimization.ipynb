{
 "cells": [
  {
   "cell_type": "markdown",
   "metadata": {},
   "source": [
    "`Auto3D` is mainly designed for generating low-energy 3D structures from the SMILES. It aslo provides a wrapper function `opt_geometry` to do geometry optimization for existing 3D structures, using `ANI2x`, `AIMNET` or `ANI-2xt` as the optimizing engine. \n",
    "\n",
    "You can use it to opimize 3D structures from other sources, or try tight optimization convergence threshold from the output of Auto3D."
   ]
  },
  {
   "cell_type": "code",
   "execution_count": 1,
   "metadata": {},
   "outputs": [],
   "source": [
    "import os, sys\n",
    "root = os.path.dirname(os.path.dirname(os.path.abspath(\"__file__\")))\n",
    "sys.path.append(root)\n",
    "\n",
    "import Auto3D\n",
    "from Auto3D.auto3D import options, main"
   ]
  },
  {
   "cell_type": "code",
   "execution_count": 2,
   "metadata": {},
   "outputs": [
    {
     "name": "stdout",
     "output_type": "stream",
     "text": [
      "0.1.9\n"
     ]
    }
   ],
   "source": [
    "#Always ensure that you have the latest version\n",
    "print(Auto3D.__version__)"
   ]
  },
  {
   "cell_type": "markdown",
   "metadata": {},
   "source": [
    "# Geometry optimization with existing 3D structures"
   ]
  },
  {
   "cell_type": "code",
   "execution_count": 4,
   "metadata": {},
   "outputs": [],
   "source": [
    "from Auto3D.ASE.geometry import opt_geometry"
   ]
  },
  {
   "cell_type": "code",
   "execution_count": 1,
   "metadata": {},
   "outputs": [
    {
     "ename": "NameError",
     "evalue": "name 'root' is not defined",
     "output_type": "error",
     "traceback": [
      "\u001b[1;31m---------------------------------------------------------------------------\u001b[0m",
      "\u001b[1;31mNameError\u001b[0m                                 Traceback (most recent call last)",
      "\u001b[1;32md:\\GitHub\\Auto3D_pkg\\example\\geometry_optimization.ipynb Cell 6\u001b[0m in \u001b[0;36m<cell line: 1>\u001b[1;34m()\u001b[0m\n\u001b[1;32m----> <a href='vscode-notebook-cell:/d%3A/GitHub/Auto3D_pkg/example/geometry_optimization.ipynb#W5sZmlsZQ%3D%3D?line=0'>1</a>\u001b[0m path \u001b[39m=\u001b[39m os\u001b[39m.\u001b[39mpath\u001b[39m.\u001b[39mjoin(root, \u001b[39m\"\u001b[39m\u001b[39mexample/files/RDKIT_AIMNET_smiles/smiles_out.sdf\u001b[39m\u001b[39m\"\u001b[39m)\n\u001b[0;32m      <a href='vscode-notebook-cell:/d%3A/GitHub/Auto3D_pkg/example/geometry_optimization.ipynb#W5sZmlsZQ%3D%3D?line=1'>2</a>\u001b[0m optimized \u001b[39m=\u001b[39m opt_geometry(path, model_name\u001b[39m=\u001b[39m\u001b[39m\"\u001b[39m\u001b[39mAIMNET\u001b[39m\u001b[39m\"\u001b[39m, opt_tol\u001b[39m=\u001b[39m\u001b[39m0.002\u001b[39m)\n\u001b[0;32m      <a href='vscode-notebook-cell:/d%3A/GitHub/Auto3D_pkg/example/geometry_optimization.ipynb#W5sZmlsZQ%3D%3D?line=2'>3</a>\u001b[0m \u001b[39mprint\u001b[39m(optimized)\n",
      "\u001b[1;31mNameError\u001b[0m: name 'root' is not defined"
     ]
    }
   ],
   "source": [
    "path = os.path.join(root, \"example/files/RDKIT_AIMNET_smiles/smiles_out.sdf\")\n",
    "optimized = opt_geometry(path, model_name=\"AIMNET\", opt_tol=0.002)\n",
    "print(optimized)"
   ]
  },
  {
   "cell_type": "code",
   "execution_count": 9,
   "metadata": {},
   "outputs": [
    {
     "name": "stdout",
     "output_type": "stream",
     "text": [
      "Help on function opt_geometry in module Auto3D.ASE.geometry:\n",
      "\n",
      "opt_geometry(path: str, model_name: str, gpu_idx=0, opt_tol=0.003, opt_steps=5000)\n",
      "    Geometry optimization interface with Auto3D\n",
      "    path: Input sdf file\n",
      "    model_name: ANI2xt or AIMNET\n",
      "    gpu_idx: GPU cuda index\n",
      "    opt_tol: Convergence_threshold for geometry optimization (eV/A)\n",
      "    opt_steps: Maximum geometry optimizaiton steps\n",
      "\n"
     ]
    }
   ],
   "source": [
    "help(opt_geometry)  #please note that model_name can be \"ANI2x\", \"ANI2xt\" and \"AIMNET\"."
   ]
  }
 ],
 "metadata": {
  "kernelspec": {
   "display_name": "Python 3.9.12 ('base')",
   "language": "python",
   "name": "python3"
  },
  "language_info": {
   "codemirror_mode": {
    "name": "ipython",
    "version": 3
   },
   "file_extension": ".py",
   "mimetype": "text/x-python",
   "name": "python",
   "nbconvert_exporter": "python",
   "pygments_lexer": "ipython3",
   "version": "3.9.12"
  },
  "vscode": {
   "interpreter": {
    "hash": "16f5b46f222e2a3e8d4adbf7141cae37b71ed37616e60735fa5d1164a1bc3ada"
   }
  }
 },
 "nbformat": 4,
 "nbformat_minor": 2
}
